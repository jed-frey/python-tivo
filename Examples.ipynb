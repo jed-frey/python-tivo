{
 "cells": [
  {
   "cell_type": "code",
   "execution_count": 1,
   "metadata": {},
   "outputs": [],
   "source": [
    "import tivo"
   ]
  },
  {
   "cell_type": "markdown",
   "metadata": {},
   "source": [
    "# TiVo Examples\n",
    "\n",
    "Higher level wrapper [```mattjgalloway```'s python-tivo]. Attempts to be more pythonic and less verbose. ```TiVo module for humans```."
   ]
  },
  {
   "cell_type": "markdown",
   "metadata": {},
   "source": []
  },
  {
   "cell_type": "code",
   "execution_count": 20,
   "metadata": {},
   "outputs": [],
   "source": [
    "tivo_cfg = {\n",
    "    \"host\": \"192.168.1.135\",\n",
    "    \"port\": 31339,\n",
    "}\n",
    "# Low Level\n",
    "c=tivo.connection.TiVoConnection(**tivo_cfg)\n",
    "# High Level\n",
    "t=tivo.TiVo(**tivo_cfg)"
   ]
  },
  {
   "cell_type": "markdown",
   "metadata": {},
   "source": [
    "## Watch LiveTV\n"
   ]
  },
  {
   "cell_type": "code",
   "execution_count": 22,
   "metadata": {},
   "outputs": [
    {
     "data": {
      "text/plain": [
       "[{'raw': 'CH_STATUS 0232 RECORDING',\n",
       "  'type': 'CH_STATUS',\n",
       "  'channel': '0232',\n",
       "  'reason': 'RECORDING',\n",
       "  'subChannel': None},\n",
       " {'raw': 'CH_STATUS 0231 RECORDING',\n",
       "  'type': 'CH_STATUS',\n",
       "  'channel': '0231',\n",
       "  'reason': 'RECORDING',\n",
       "  'subChannel': None},\n",
       " {'raw': 'CH_STATUS 0231 LOCAL',\n",
       "  'type': 'CH_STATUS',\n",
       "  'channel': '0231',\n",
       "  'reason': 'LOCAL',\n",
       "  'subChannel': None}]"
      ]
     },
     "execution_count": 22,
     "metadata": {},
     "output_type": "execute_result"
    }
   ],
   "source": [
    "# Low Level\n",
    "c.sendIRCode(\"LIVETV\")"
   ]
  },
  {
   "cell_type": "code",
   "execution_count": 18,
   "metadata": {},
   "outputs": [
    {
     "data": {
      "text/plain": [
       "[{'raw': 'CH_STATUS 0237 LOCAL',\n",
       "  'type': 'CH_STATUS',\n",
       "  'channel': '0237',\n",
       "  'reason': 'LOCAL',\n",
       "  'subChannel': None},\n",
       " {'raw': 'CH_STATUS 0232 LOCAL',\n",
       "  'type': 'CH_STATUS',\n",
       "  'channel': '0232',\n",
       "  'reason': 'LOCAL',\n",
       "  'subChannel': None},\n",
       " {'raw': 'CH_STATUS 0233 LOCAL',\n",
       "  'type': 'CH_STATUS',\n",
       "  'channel': '0233',\n",
       "  'reason': 'LOCAL',\n",
       "  'subChannel': None}]"
      ]
     },
     "execution_count": 18,
     "metadata": {},
     "output_type": "execute_result"
    }
   ],
   "source": [
    "# High Level.\n",
    "t.livetv()"
   ]
  },
  {
   "cell_type": "markdown",
   "metadata": {},
   "source": [
    "## Send Multiple Commands.\n",
    "\n",
    "Cheat codes for your TiVo."
   ]
  },
  {
   "cell_type": "markdown",
   "metadata": {},
   "source": [
    "## High Level"
   ]
  },
  {
   "cell_type": "code",
   "execution_count": 27,
   "metadata": {},
   "outputs": [],
   "source": [
    "# Low Level\n",
    "for cmd in [\"LIVETV\", \"TIVO\", \"RIGHT\", \"RIGHT\", \"RIGHT\", \"SELECT\"]:\n",
    "    c.sendIRCode(cmd)"
   ]
  },
  {
   "cell_type": "code",
   "execution_count": 37,
   "metadata": {},
   "outputs": [],
   "source": [
    "# High Level\n",
    "t.combo([\"livetv\", \"tivo\", \"right\", \"right\", \"right\", \"select\"]);"
   ]
  },
  {
   "cell_type": "markdown",
   "metadata": {},
   "source": [
    "## Send a String"
   ]
  },
  {
   "cell_type": "code",
   "execution_count": 29,
   "metadata": {},
   "outputs": [],
   "source": [
    "# Low Level\n",
    "for char in \"HELLO\":\n",
    "    c.sendKeyboard(char)"
   ]
  },
  {
   "cell_type": "code",
   "execution_count": 38,
   "metadata": {
    "scrolled": true
   },
   "outputs": [
    {
     "data": {
      "text/plain": [
       "[{'raw': 'CH_STATUS 0233 LOCAL',\n",
       "  'type': 'CH_STATUS',\n",
       "  'channel': '0233',\n",
       "  'reason': 'LOCAL',\n",
       "  'subChannel': None}]"
      ]
     },
     "execution_count": 38,
     "metadata": {},
     "output_type": "execute_result"
    }
   ],
   "source": [
    "# High Level\n",
    "t.send_str(\" WORLD\")"
   ]
  },
  {
   "cell_type": "markdown",
   "metadata": {},
   "source": [
    "## Set the current channel\n",
    "\n",
    "Manually types out the channel and presses enter. ```SETCH``` does not work on all TiVo boxes."
   ]
  },
  {
   "cell_type": "code",
   "execution_count": 40,
   "metadata": {},
   "outputs": [
    {
     "data": {
      "text/plain": [
       "[{'raw': 'CH_STATUS 0240 LOCAL',\n",
       "  'type': 'CH_STATUS',\n",
       "  'channel': '0240',\n",
       "  'reason': 'LOCAL',\n",
       "  'subChannel': None},\n",
       " {'raw': 'CH_STATUS 0233 LOCAL',\n",
       "  'type': 'CH_STATUS',\n",
       "  'channel': '0233',\n",
       "  'reason': 'LOCAL',\n",
       "  'subChannel': None},\n",
       " {'raw': 'CH_STATUS 0240 LOCAL',\n",
       "  'type': 'CH_STATUS',\n",
       "  'channel': '0240',\n",
       "  'reason': 'LOCAL',\n",
       "  'subChannel': None}]"
      ]
     },
     "execution_count": 40,
     "metadata": {},
     "output_type": "execute_result"
    }
   ],
   "source": [
    "# Low Level\n",
    "c.sendCommands([\"IRCODE LIVETV\", \"IRCODE NUM2\", \"IRCODE NUM4\", \"IRCODE NUM0\", \"IRCODE ENTER\"])"
   ]
  },
  {
   "cell_type": "code",
   "execution_count": 41,
   "metadata": {},
   "outputs": [],
   "source": [
    "# High Level\n",
    "t.chan=231"
   ]
  },
  {
   "cell_type": "code",
   "execution_count": null,
   "metadata": {},
   "outputs": [],
   "source": []
  }
 ],
 "metadata": {
  "kernelspec": {
   "display_name": "Python 3",
   "language": "python",
   "name": "python3"
  },
  "language_info": {
   "codemirror_mode": {
    "name": "ipython",
    "version": 3
   },
   "file_extension": ".py",
   "mimetype": "text/x-python",
   "name": "python",
   "nbconvert_exporter": "python",
   "pygments_lexer": "ipython3",
   "version": "3.7.3"
  }
 },
 "nbformat": 4,
 "nbformat_minor": 2
}
